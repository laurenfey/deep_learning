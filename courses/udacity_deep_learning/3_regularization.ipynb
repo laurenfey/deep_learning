{
 "cells": [
  {
   "cell_type": "markdown",
   "metadata": {
    "id": "kR-4eNdK6lYS"
   },
   "source": [
    "Deep Learning\n",
    "=============\n",
    "\n",
    "Assignment 3\n",
    "------------\n",
    "\n",
    "Previously in `2_fullyconnected.ipynb`, you trained a logistic regression and a neural network model.\n",
    "\n",
    "The goal of this assignment is to explore regularization techniques."
   ]
  },
  {
   "cell_type": "code",
   "execution_count": 101,
   "metadata": {
    "cellView": "both",
    "id": "JLpLa8Jt7Vu4"
   },
   "outputs": [],
   "source": [
    "# These are all the modules we'll be using later. Make sure you can import them\n",
    "# before proceeding further.\n",
    "from __future__ import print_function\n",
    "import numpy as np\n",
    "import tensorflow as tf\n",
    "from six.moves import cPickle as pickle\n",
    "import matplotlib.pyplot as plt"
   ]
  },
  {
   "cell_type": "markdown",
   "metadata": {
    "id": "1HrCK6e17WzV"
   },
   "source": [
    "First reload the data we generated in `1_notmnist.ipynb`."
   ]
  },
  {
   "cell_type": "code",
   "execution_count": 2,
   "metadata": {
    "cellView": "both",
    "id": "y3-cj1bpmuxc"
   },
   "outputs": [
    {
     "name": "stdout",
     "output_type": "stream",
     "text": [
      "Training set (200000, 28, 28) (200000,)\n",
      "Validation set (10000, 28, 28) (10000,)\n",
      "Test set (10000, 28, 28) (10000,)\n"
     ]
    }
   ],
   "source": [
    "pickle_file = 'notMNIST.pickle'\n",
    "\n",
    "with open(pickle_file, 'rb') as f:\n",
    "  save = pickle.load(f)\n",
    "  train_dataset = save['train_dataset']\n",
    "  train_labels = save['train_labels']\n",
    "  valid_dataset = save['valid_dataset']\n",
    "  valid_labels = save['valid_labels']\n",
    "  test_dataset = save['test_dataset']\n",
    "  test_labels = save['test_labels']\n",
    "  del save  # hint to help gc free up memory\n",
    "  print('Training set', train_dataset.shape, train_labels.shape)\n",
    "  print('Validation set', valid_dataset.shape, valid_labels.shape)\n",
    "  print('Test set', test_dataset.shape, test_labels.shape)"
   ]
  },
  {
   "cell_type": "markdown",
   "metadata": {
    "id": "L7aHrm6nGDMB"
   },
   "source": [
    "Reformat into a shape that's more adapted to the models we're going to train:\n",
    "- data as a flat matrix,\n",
    "- labels as float 1-hot encodings."
   ]
  },
  {
   "cell_type": "code",
   "execution_count": 3,
   "metadata": {
    "cellView": "both",
    "id": "IRSyYiIIGIzS"
   },
   "outputs": [
    {
     "name": "stdout",
     "output_type": "stream",
     "text": [
      "Training set (200000, 784) (200000, 10)\n",
      "Validation set (10000, 784) (10000, 10)\n",
      "Test set (10000, 784) (10000, 10)\n"
     ]
    }
   ],
   "source": [
    "image_size = 28\n",
    "num_labels = 10\n",
    "\n",
    "def reformat(dataset, labels):\n",
    "  dataset = dataset.reshape((-1, image_size * image_size)).astype(np.float32)\n",
    "  # Map 1 to [0.0, 1.0, 0.0 ...], 2 to [0.0, 0.0, 1.0 ...]\n",
    "  labels = (np.arange(num_labels) == labels[:,None]).astype(np.float32)\n",
    "  return dataset, labels\n",
    "train_dataset, train_labels = reformat(train_dataset, train_labels)\n",
    "valid_dataset, valid_labels = reformat(valid_dataset, valid_labels)\n",
    "test_dataset, test_labels = reformat(test_dataset, test_labels)\n",
    "print('Training set', train_dataset.shape, train_labels.shape)\n",
    "print('Validation set', valid_dataset.shape, valid_labels.shape)\n",
    "print('Test set', test_dataset.shape, test_labels.shape)"
   ]
  },
  {
   "cell_type": "code",
   "execution_count": 4,
   "metadata": {
    "cellView": "both",
    "id": "RajPLaL_ZW6w"
   },
   "outputs": [],
   "source": [
    "def accuracy(predictions, labels):\n",
    "  return (100.0 * np.sum(np.argmax(predictions, 1) == np.argmax(labels, 1))\n",
    "          / predictions.shape[0])"
   ]
  },
  {
   "cell_type": "markdown",
   "metadata": {
    "id": "sgLbUAQ1CW-1"
   },
   "source": [
    "---\n",
    "Problem 1\n",
    "---------\n",
    "\n",
    "Introduce and tune L2 regularization for both logistic and neural network models. Remember that L2 amounts to adding a penalty on the norm of the weights to the loss. In TensorFlow, you can compute the L2 loss for a tensor `t` using `nn.l2_loss(t)`. The right amount of regularization should improve your validation / test accuracy.\n",
    "\n",
    "---"
   ]
  },
  {
   "cell_type": "code",
   "execution_count": 141,
   "metadata": {},
   "outputs": [],
   "source": [
    "beta = 1e-3\n",
    "\n",
    "loss_fn = tf.keras.losses.CategoricalCrossentropy(from_logits=True)\n",
    "\n",
    "model = tf.keras.Sequential()\n",
    "model.add(tf.keras.layers.InputLayer(input_shape=(784,)))\n",
    "model.add(tf.keras.layers.Dense(784,activation='relu',kernel_regularizer=tf.keras.regularizers.l2(beta)))\n",
    "model.add(tf.keras.layers.Dense(10))\n",
    "model.compile(optimizer='adam',loss=loss_fn,metrics=['accuracy',loss_fn])\n",
    "\n",
    "linear_model = tf.keras.Sequential()\n",
    "linear_model.add(tf.keras.layers.InputLayer(input_shape=(784)))\n",
    "linear_model.add(tf.keras.layers.Dense(10,kernel_regularizer=tf.keras.regularizers.l2(beta)))\n",
    "linear_model.compile(optimizer='adam',loss=loss_fn,metrics=['accuracy',loss_fn])"
   ]
  },
  {
   "cell_type": "code",
   "execution_count": 142,
   "metadata": {
    "scrolled": true
   },
   "outputs": [
    {
     "name": "stdout",
     "output_type": "stream",
     "text": [
      "Epoch 1/10\n",
      "6250/6250 [==============================] - 14s 2ms/step - loss: 0.7033 - accuracy: 0.8396 - categorical_crossentropy: 0.5444 - val_loss: 0.5852 - val_accuracy: 0.8584 - val_categorical_crossentropy: 0.4836\n",
      "Epoch 2/10\n",
      "6250/6250 [==============================] - 13s 2ms/step - loss: 0.5687 - accuracy: 0.8596 - categorical_crossentropy: 0.4760 - val_loss: 0.5472 - val_accuracy: 0.8682 - val_categorical_crossentropy: 0.4590\n",
      "Epoch 3/10\n",
      "6250/6250 [==============================] - 14s 2ms/step - loss: 0.5437 - accuracy: 0.8641 - categorical_crossentropy: 0.4586 - val_loss: 0.5288 - val_accuracy: 0.8699 - val_categorical_crossentropy: 0.4466\n",
      "Epoch 4/10\n",
      "6250/6250 [==============================] - 13s 2ms/step - loss: 0.5325 - accuracy: 0.8662 - categorical_crossentropy: 0.4515 - val_loss: 0.5348 - val_accuracy: 0.8682 - val_categorical_crossentropy: 0.4558\n",
      "Epoch 5/10\n",
      "6250/6250 [==============================] - 13s 2ms/step - loss: 0.5272 - accuracy: 0.8675 - categorical_crossentropy: 0.4482 - val_loss: 0.5353 - val_accuracy: 0.8667 - val_categorical_crossentropy: 0.4582\n",
      "Epoch 6/10\n",
      "6250/6250 [==============================] - 12s 2ms/step - loss: 0.5234 - accuracy: 0.8681 - categorical_crossentropy: 0.4460 - val_loss: 0.5325 - val_accuracy: 0.8658 - val_categorical_crossentropy: 0.4560\n",
      "Epoch 7/10\n",
      "6250/6250 [==============================] - 13s 2ms/step - loss: 0.5200 - accuracy: 0.8683 - categorical_crossentropy: 0.4435 - val_loss: 0.5119 - val_accuracy: 0.8717 - val_categorical_crossentropy: 0.4366\n",
      "Epoch 8/10\n",
      "6250/6250 [==============================] - 14s 2ms/step - loss: 0.5188 - accuracy: 0.8680 - categorical_crossentropy: 0.4427 - val_loss: 0.5267 - val_accuracy: 0.8659 - val_categorical_crossentropy: 0.4505\n",
      "Epoch 9/10\n",
      "6250/6250 [==============================] - 14s 2ms/step - loss: 0.5161 - accuracy: 0.8693 - categorical_crossentropy: 0.4405 - val_loss: 0.5097 - val_accuracy: 0.8715 - val_categorical_crossentropy: 0.4349\n",
      "Epoch 10/10\n",
      "6250/6250 [==============================] - 14s 2ms/step - loss: 0.5145 - accuracy: 0.8691 - categorical_crossentropy: 0.4396 - val_loss: 0.5292 - val_accuracy: 0.8638 - val_categorical_crossentropy: 0.4556\n"
     ]
    }
   ],
   "source": [
    "history_reg = model.fit(train_dataset,train_labels,validation_data=(valid_dataset,valid_labels),epochs=10)"
   ]
  },
  {
   "cell_type": "code",
   "execution_count": 114,
   "metadata": {
    "scrolled": false
   },
   "outputs": [
    {
     "name": "stdout",
     "output_type": "stream",
     "text": [
      "Epoch 1/5\n",
      "6250/6250 [==============================] - 3s 408us/step - loss: 0.6859 - accuracy: 0.8188 - categorical_crossentropy: 0.6821 - val_loss: 0.6612 - val_accuracy: 0.8285 - val_categorical_crossentropy: 0.6564\n",
      "Epoch 2/5\n",
      "6250/6250 [==============================] - 2s 396us/step - loss: 0.6536 - accuracy: 0.8275 - categorical_crossentropy: 0.6489 - val_loss: 0.6533 - val_accuracy: 0.8281 - val_categorical_crossentropy: 0.6477\n",
      "Epoch 3/5\n",
      "6250/6250 [==============================] - 2s 396us/step - loss: 0.6495 - accuracy: 0.8287 - categorical_crossentropy: 0.6441 - val_loss: 0.6620 - val_accuracy: 0.8246 - val_categorical_crossentropy: 0.6557\n",
      "Epoch 4/5\n",
      "6250/6250 [==============================] - 2s 396us/step - loss: 0.6478 - accuracy: 0.8295 - categorical_crossentropy: 0.6419 - val_loss: 0.6589 - val_accuracy: 0.8262 - val_categorical_crossentropy: 0.6522\n",
      "Epoch 5/5\n",
      "6250/6250 [==============================] - 2s 395us/step - loss: 0.6468 - accuracy: 0.8300 - categorical_crossentropy: 0.6405 - val_loss: 0.6565 - val_accuracy: 0.8288 - val_categorical_crossentropy: 0.6494\n"
     ]
    }
   ],
   "source": [
    "linear_history = linear_model.fit(train_dataset,train_labels,validation_data=(valid_dataset,valid_labels),epochs=5)"
   ]
  },
  {
   "cell_type": "code",
   "execution_count": 144,
   "metadata": {
    "scrolled": true
   },
   "outputs": [
    {
     "data": {
      "text/plain": [
       "<matplotlib.legend.Legend at 0x2d3a4d3d0>"
      ]
     },
     "execution_count": 144,
     "metadata": {},
     "output_type": "execute_result"
    },
    {
     "data": {
      "image/png": "[encoded data removed]",
      "text/plain": [
       "<Figure size 432x288 with 1 Axes>"
      ]
     },
     "metadata": {
      "needs_background": "light"
     },
     "output_type": "display_data"
    }
   ],
   "source": [
    "plt.figure()\n",
    "plt.plot(history.history['categorical_crossentropy'],'C0-',label='No Reg, Train')\n",
    "plt.plot(history.history['val_categorical_crossentropy'],'C0--',label='No Reg, Val')\n",
    "plt.plot(history_reg.history['categorical_crossentropy'],'C1-',label='Reg, Train')\n",
    "plt.plot(history_reg.history['val_categorical_crossentropy'],'C1--',label='Reg, Val')\n",
    "plt.legend()"
   ]
  },
  {
   "cell_type": "markdown",
   "metadata": {
    "id": "na8xX2yHZzNF"
   },
   "source": [
    "---\n",
    "Problem 2\n",
    "---------\n",
    "Let's demonstrate an extreme case of overfitting. Restrict your training data to just a few batches. What happens?\n",
    "\n",
    "---"
   ]
  },
  {
   "cell_type": "code",
   "execution_count": 115,
   "metadata": {},
   "outputs": [],
   "source": [
    "small_train = train_dataset[:100]\n",
    "small_labels = train_labels[:100]"
   ]
  },
  {
   "cell_type": "code",
   "execution_count": 132,
   "metadata": {
    "collapsed": true
   },
   "outputs": [
    {
     "name": "stdout",
     "output_type": "stream",
     "text": [
      "Epoch 1/100\n",
      "4/4 [==============================] - 0s 81ms/step - loss: 2.0336 - val_loss: 1.4025\n",
      "Epoch 2/100\n",
      "4/4 [==============================] - 0s 62ms/step - loss: 0.6667 - val_loss: 1.2026\n",
      "Epoch 3/100\n",
      "4/4 [==============================] - 0s 63ms/step - loss: 0.3651 - val_loss: 1.0994\n",
      "Epoch 4/100\n",
      "4/4 [==============================] - 0s 62ms/step - loss: 0.1888 - val_loss: 1.1086\n",
      "Epoch 5/100\n",
      "4/4 [==============================] - 0s 64ms/step - loss: 0.1244 - val_loss: 1.1582\n",
      "Epoch 6/100\n",
      "4/4 [==============================] - 0s 64ms/step - loss: 0.0851 - val_loss: 1.1333\n",
      "Epoch 7/100\n",
      "4/4 [==============================] - 0s 61ms/step - loss: 0.0474 - val_loss: 1.1096\n",
      "Epoch 8/100\n",
      "4/4 [==============================] - 0s 65ms/step - loss: 0.0333 - val_loss: 1.1005\n",
      "Epoch 9/100\n",
      "4/4 [==============================] - 0s 62ms/step - loss: 0.0223 - val_loss: 1.1015\n",
      "Epoch 10/100\n",
      "4/4 [==============================] - 0s 63ms/step - loss: 0.0186 - val_loss: 1.1099\n",
      "Epoch 11/100\n",
      "4/4 [==============================] - 0s 65ms/step - loss: 0.0156 - val_loss: 1.1109\n",
      "Epoch 12/100\n",
      "4/4 [==============================] - 0s 62ms/step - loss: 0.0123 - val_loss: 1.1096\n",
      "Epoch 13/100\n",
      "4/4 [==============================] - 0s 62ms/step - loss: 0.0095 - val_loss: 1.1114\n",
      "Epoch 14/100\n",
      "4/4 [==============================] - 0s 64ms/step - loss: 0.0081 - val_loss: 1.1266\n",
      "Epoch 15/100\n",
      "4/4 [==============================] - 0s 62ms/step - loss: 0.0072 - val_loss: 1.1394\n",
      "Epoch 16/100\n",
      "4/4 [==============================] - 0s 64ms/step - loss: 0.0067 - val_loss: 1.1475\n",
      "Epoch 17/100\n",
      "4/4 [==============================] - 0s 63ms/step - loss: 0.0061 - val_loss: 1.1484\n",
      "Epoch 18/100\n",
      "4/4 [==============================] - 0s 63ms/step - loss: 0.0056 - val_loss: 1.1470\n",
      "Epoch 19/100\n",
      "4/4 [==============================] - 0s 62ms/step - loss: 0.0051 - val_loss: 1.1445\n",
      "Epoch 20/100\n",
      "4/4 [==============================] - 0s 65ms/step - loss: 0.0047 - val_loss: 1.1415\n",
      "Epoch 21/100\n",
      "4/4 [==============================] - 0s 62ms/step - loss: 0.0044 - val_loss: 1.1360\n",
      "Epoch 22/100\n",
      "4/4 [==============================] - 0s 61ms/step - loss: 0.0041 - val_loss: 1.1320\n",
      "Epoch 23/100\n",
      "4/4 [==============================] - 0s 63ms/step - loss: 0.0038 - val_loss: 1.1315\n",
      "Epoch 24/100\n",
      "4/4 [==============================] - 0s 64ms/step - loss: 0.0037 - val_loss: 1.1331\n",
      "Epoch 25/100\n",
      "4/4 [==============================] - 0s 62ms/step - loss: 0.0036 - val_loss: 1.1361\n",
      "Epoch 26/100\n",
      "4/4 [==============================] - 0s 63ms/step - loss: 0.0034 - val_loss: 1.1377\n",
      "Epoch 27/100\n",
      "4/4 [==============================] - 0s 63ms/step - loss: 0.0033 - val_loss: 1.1407\n",
      "Epoch 28/100\n",
      "4/4 [==============================] - 0s 62ms/step - loss: 0.0031 - val_loss: 1.1438\n",
      "Epoch 29/100\n",
      "4/4 [==============================] - 0s 63ms/step - loss: 0.0030 - val_loss: 1.1452\n",
      "Epoch 30/100\n",
      "4/4 [==============================] - 0s 60ms/step - loss: 0.0029 - val_loss: 1.1505\n",
      "Epoch 31/100\n",
      "4/4 [==============================] - 0s 63ms/step - loss: 0.0027 - val_loss: 1.1549\n",
      "Epoch 32/100\n",
      "4/4 [==============================] - 0s 65ms/step - loss: 0.0026 - val_loss: 1.1586\n",
      "Epoch 33/100\n",
      "4/4 [==============================] - 0s 63ms/step - loss: 0.0025 - val_loss: 1.1601\n",
      "Epoch 34/100\n",
      "4/4 [==============================] - 0s 63ms/step - loss: 0.0024 - val_loss: 1.1620\n",
      "Epoch 35/100\n",
      "4/4 [==============================] - 0s 65ms/step - loss: 0.0023 - val_loss: 1.1634\n",
      "Epoch 36/100\n",
      "4/4 [==============================] - 0s 63ms/step - loss: 0.0023 - val_loss: 1.1645\n",
      "Epoch 37/100\n",
      "4/4 [==============================] - 0s 63ms/step - loss: 0.0022 - val_loss: 1.1647\n",
      "Epoch 38/100\n",
      "4/4 [==============================] - 0s 65ms/step - loss: 0.0021 - val_loss: 1.1657\n",
      "Epoch 39/100\n",
      "4/4 [==============================] - 0s 64ms/step - loss: 0.0020 - val_loss: 1.1666\n",
      "Epoch 40/100\n",
      "4/4 [==============================] - 0s 64ms/step - loss: 0.0020 - val_loss: 1.1672\n",
      "Epoch 41/100\n",
      "4/4 [==============================] - 0s 62ms/step - loss: 0.0019 - val_loss: 1.1677\n",
      "Epoch 42/100\n",
      "4/4 [==============================] - 0s 63ms/step - loss: 0.0019 - val_loss: 1.1675\n",
      "Epoch 43/100\n",
      "4/4 [==============================] - 0s 66ms/step - loss: 0.0018 - val_loss: 1.1698\n",
      "Epoch 44/100\n",
      "4/4 [==============================] - 0s 63ms/step - loss: 0.0018 - val_loss: 1.1715\n",
      "Epoch 45/100\n",
      "4/4 [==============================] - 0s 70ms/step - loss: 0.0017 - val_loss: 1.1727\n",
      "Epoch 46/100\n",
      "4/4 [==============================] - 0s 67ms/step - loss: 0.0017 - val_loss: 1.1747\n",
      "Epoch 47/100\n",
      "4/4 [==============================] - 0s 62ms/step - loss: 0.0016 - val_loss: 1.1767\n",
      "Epoch 48/100\n",
      "4/4 [==============================] - 0s 63ms/step - loss: 0.0016 - val_loss: 1.1776\n",
      "Epoch 49/100\n",
      "4/4 [==============================] - 0s 62ms/step - loss: 0.0015 - val_loss: 1.1785\n",
      "Epoch 50/100\n",
      "4/4 [==============================] - 0s 62ms/step - loss: 0.0015 - val_loss: 1.1800\n",
      "Epoch 51/100\n",
      "4/4 [==============================] - 0s 64ms/step - loss: 0.0015 - val_loss: 1.1840\n",
      "Epoch 52/100\n",
      "4/4 [==============================] - 0s 65ms/step - loss: 0.0014 - val_loss: 1.1881\n",
      "Epoch 53/100\n",
      "4/4 [==============================] - 0s 62ms/step - loss: 0.0014 - val_loss: 1.1899\n",
      "Epoch 54/100\n",
      "4/4 [==============================] - 0s 65ms/step - loss: 0.0014 - val_loss: 1.1912\n",
      "Epoch 55/100\n",
      "4/4 [==============================] - 0s 64ms/step - loss: 0.0013 - val_loss: 1.1924\n",
      "Epoch 56/100\n",
      "4/4 [==============================] - 0s 70ms/step - loss: 0.0013 - val_loss: 1.1929\n",
      "Epoch 57/100\n",
      "4/4 [==============================] - 0s 61ms/step - loss: 0.0013 - val_loss: 1.1931\n",
      "Epoch 58/100\n",
      "4/4 [==============================] - 0s 63ms/step - loss: 0.0012 - val_loss: 1.1919\n",
      "Epoch 59/100\n",
      "4/4 [==============================] - 0s 61ms/step - loss: 0.0012 - val_loss: 1.1909\n",
      "Epoch 60/100\n",
      "4/4 [==============================] - 0s 63ms/step - loss: 0.0012 - val_loss: 1.1926\n",
      "Epoch 61/100\n",
      "4/4 [==============================] - 0s 64ms/step - loss: 0.0012 - val_loss: 1.1939\n",
      "Epoch 62/100\n",
      "4/4 [==============================] - 0s 60ms/step - loss: 0.0011 - val_loss: 1.1949\n",
      "Epoch 63/100\n",
      "4/4 [==============================] - 0s 63ms/step - loss: 0.0011 - val_loss: 1.1959\n",
      "Epoch 64/100\n",
      "4/4 [==============================] - 0s 63ms/step - loss: 0.0011 - val_loss: 1.1972\n",
      "Epoch 65/100\n",
      "4/4 [==============================] - 0s 63ms/step - loss: 0.0011 - val_loss: 1.1977\n",
      "Epoch 66/100\n",
      "4/4 [==============================] - 0s 62ms/step - loss: 0.0010 - val_loss: 1.1988\n",
      "Epoch 67/100\n",
      "4/4 [==============================] - 0s 62ms/step - loss: 0.0010 - val_loss: 1.1993\n",
      "Epoch 68/100\n",
      "4/4 [==============================] - 0s 62ms/step - loss: 9.9164e-04 - val_loss: 1.2005\n",
      "Epoch 69/100\n",
      "4/4 [==============================] - 0s 66ms/step - loss: 9.7180e-04 - val_loss: 1.2017\n",
      "Epoch 70/100\n",
      "4/4 [==============================] - 0s 63ms/step - loss: 9.5329e-04 - val_loss: 1.2033\n",
      "Epoch 71/100\n",
      "4/4 [==============================] - 0s 64ms/step - loss: 9.3477e-04 - val_loss: 1.2047\n",
      "Epoch 72/100\n",
      "4/4 [==============================] - 0s 62ms/step - loss: 9.1730e-04 - val_loss: 1.2056\n",
      "Epoch 73/100\n",
      "4/4 [==============================] - 0s 64ms/step - loss: 9.0087e-04 - val_loss: 1.2069\n",
      "Epoch 74/100\n",
      "4/4 [==============================] - 0s 63ms/step - loss: 8.8300e-04 - val_loss: 1.2082\n",
      "Epoch 75/100\n",
      "4/4 [==============================] - 0s 64ms/step - loss: 8.6725e-04 - val_loss: 1.2091\n",
      "Epoch 76/100\n",
      "4/4 [==============================] - 0s 62ms/step - loss: 8.5073e-04 - val_loss: 1.2095\n",
      "Epoch 77/100\n",
      "4/4 [==============================] - 0s 60ms/step - loss: 8.3605e-04 - val_loss: 1.2090\n",
      "Epoch 78/100\n",
      "4/4 [==============================] - 0s 64ms/step - loss: 8.2349e-04 - val_loss: 1.2084\n",
      "Epoch 79/100\n",
      "4/4 [==============================] - 0s 62ms/step - loss: 8.0863e-04 - val_loss: 1.2091\n",
      "Epoch 80/100\n",
      "4/4 [==============================] - 0s 63ms/step - loss: 7.9617e-04 - val_loss: 1.2106\n",
      "Epoch 81/100\n",
      "4/4 [==============================] - 0s 66ms/step - loss: 7.8300e-04 - val_loss: 1.2115\n",
      "Epoch 82/100\n",
      "4/4 [==============================] - 0s 63ms/step - loss: 7.6994e-04 - val_loss: 1.2122\n",
      "Epoch 83/100\n"
     ]
    },
    {
     "name": "stdout",
     "output_type": "stream",
     "text": [
      "4/4 [==============================] - 0s 64ms/step - loss: 7.5521e-04 - val_loss: 1.2133\n",
      "Epoch 84/100\n",
      "4/4 [==============================] - 0s 62ms/step - loss: 7.4027e-04 - val_loss: 1.2148\n",
      "Epoch 85/100\n",
      "4/4 [==============================] - 0s 63ms/step - loss: 7.2741e-04 - val_loss: 1.2163\n",
      "Epoch 86/100\n",
      "4/4 [==============================] - 0s 62ms/step - loss: 7.1514e-04 - val_loss: 1.2179\n",
      "Epoch 87/100\n",
      "4/4 [==============================] - 0s 65ms/step - loss: 7.0129e-04 - val_loss: 1.2192\n",
      "Epoch 88/100\n",
      "4/4 [==============================] - 0s 65ms/step - loss: 6.9079e-04 - val_loss: 1.2205\n",
      "Epoch 89/100\n",
      "4/4 [==============================] - 0s 63ms/step - loss: 6.7922e-04 - val_loss: 1.2213\n",
      "Epoch 90/100\n",
      "4/4 [==============================] - 0s 63ms/step - loss: 6.6964e-04 - val_loss: 1.2216\n",
      "Epoch 91/100\n",
      "4/4 [==============================] - 0s 62ms/step - loss: 6.5928e-04 - val_loss: 1.2223\n",
      "Epoch 92/100\n",
      "4/4 [==============================] - 0s 59ms/step - loss: 6.4869e-04 - val_loss: 1.2233\n",
      "Epoch 93/100\n",
      "4/4 [==============================] - 0s 63ms/step - loss: 6.3894e-04 - val_loss: 1.2245\n",
      "Epoch 94/100\n",
      "4/4 [==============================] - 0s 63ms/step - loss: 6.2804e-04 - val_loss: 1.2272\n",
      "Epoch 95/100\n",
      "4/4 [==============================] - 0s 63ms/step - loss: 6.1920e-04 - val_loss: 1.2301\n",
      "Epoch 96/100\n",
      "4/4 [==============================] - 0s 63ms/step - loss: 6.1303e-04 - val_loss: 1.2328\n",
      "Epoch 97/100\n",
      "4/4 [==============================] - 0s 64ms/step - loss: 6.0534e-04 - val_loss: 1.2361\n",
      "Epoch 98/100\n",
      "4/4 [==============================] - 0s 63ms/step - loss: 5.9530e-04 - val_loss: 1.2390\n",
      "Epoch 99/100\n",
      "4/4 [==============================] - 0s 63ms/step - loss: 5.8625e-04 - val_loss: 1.2413\n",
      "Epoch 100/100\n",
      "4/4 [==============================] - 0s 63ms/step - loss: 5.7860e-04 - val_loss: 1.2428\n"
     ]
    }
   ],
   "source": [
    "model = tf.keras.models.Sequential()\n",
    "model.add(tf.keras.layers.InputLayer(input_shape=(784)))\n",
    "model.add(tf.keras.layers.Dense(784,activation='relu'))\n",
    "model.add(tf.keras.layers.Dense(10))\n",
    "model.compile(optimizer='adam',loss=loss_fn)\n",
    "small = model.fit(small_train,small_labels,epochs=100,verbose=0,validation_data=(valid_dataset,valid_labels))"
   ]
  },
  {
   "cell_type": "code",
   "execution_count": 135,
   "metadata": {},
   "outputs": [
    {
     "data": {
      "text/plain": [
       "[<matplotlib.lines.Line2D at 0x2d3566f40>]"
      ]
     },
     "execution_count": 135,
     "metadata": {},
     "output_type": "execute_result"
    },
    {
     "data": {
      "image/png": "[encoded data removed]",
      "text/plain": [
       "<Figure size 432x288 with 1 Axes>"
      ]
     },
     "metadata": {
      "needs_background": "light"
     },
     "output_type": "display_data"
    }
   ],
   "source": [
    "plt.figure()\n",
    "plt.plot(small.history['loss'])\n",
    "plt.plot(small.history['val_loss'])"
   ]
  },
  {
   "cell_type": "markdown",
   "metadata": {
    "id": "ww3SCBUdlkRc"
   },
   "source": [
    "---\n",
    "Problem 3\n",
    "---------\n",
    "Introduce Dropout on the hidden layer of the neural network. Remember: Dropout should only be introduced during training, not evaluation, otherwise your evaluation results would be stochastic as well. TensorFlow provides `nn.dropout()` for that, but you have to make sure it's only inserted during training.\n",
    "\n",
    "What happens to our extreme overfitting case?\n",
    "\n",
    "---"
   ]
  },
  {
   "cell_type": "code",
   "execution_count": 148,
   "metadata": {},
   "outputs": [],
   "source": [
    "model = tf.keras.models.Sequential()\n",
    "model.add(tf.keras.layers.InputLayer(input_shape=(784,)))\n",
    "model.add(tf.keras.layers.Dense(784,activation='relu'))\n",
    "model.add(tf.keras.layers.Dropout(0.5))\n",
    "model.add(tf.keras.layers.Dense(10))\n",
    "\n",
    "model.compile(optimizer='adam',loss=loss_fn,metrics=['accuracy'])"
   ]
  },
  {
   "cell_type": "code",
   "execution_count": 155,
   "metadata": {},
   "outputs": [
    {
     "name": "stdout",
     "output_type": "stream",
     "text": [
      "Epoch 1/10\n",
      "6250/6250 [==============================] - 10s 2ms/step - loss: 0.4840 - accuracy: 0.8681 - val_loss: 0.4327 - val_accuracy: 0.8869\n",
      "Epoch 2/10\n",
      "6250/6250 [==============================] - 10s 2ms/step - loss: 0.4745 - accuracy: 0.8708 - val_loss: 0.4418 - val_accuracy: 0.8841\n",
      "Epoch 3/10\n",
      "6250/6250 [==============================] - 10s 2ms/step - loss: 0.4621 - accuracy: 0.8732 - val_loss: 0.4369 - val_accuracy: 0.8846\n",
      "Epoch 4/10\n",
      "6250/6250 [==============================] - 10s 2ms/step - loss: 0.4538 - accuracy: 0.8752 - val_loss: 0.4127 - val_accuracy: 0.8929\n",
      "Epoch 5/10\n",
      "6250/6250 [==============================] - 10s 2ms/step - loss: 0.4425 - accuracy: 0.8780 - val_loss: 0.4047 - val_accuracy: 0.8952\n",
      "Epoch 6/10\n",
      "6250/6250 [==============================] - 10s 2ms/step - loss: 0.4372 - accuracy: 0.8789 - val_loss: 0.4145 - val_accuracy: 0.8920\n",
      "Epoch 7/10\n",
      "6250/6250 [==============================] - 10s 2ms/step - loss: 0.4274 - accuracy: 0.8816 - val_loss: 0.4105 - val_accuracy: 0.8921\n",
      "Epoch 8/10\n",
      "6250/6250 [==============================] - 10s 2ms/step - loss: 0.4171 - accuracy: 0.8838 - val_loss: 0.4162 - val_accuracy: 0.8938\n",
      "Epoch 9/10\n",
      "6250/6250 [==============================] - 9s 1ms/step - loss: 0.4130 - accuracy: 0.8848 - val_loss: 0.4129 - val_accuracy: 0.8970\n",
      "Epoch 10/10\n",
      "6250/6250 [==============================] - 9s 1ms/step - loss: 0.4094 - accuracy: 0.8858 - val_loss: 0.4073 - val_accuracy: 0.8949\n"
     ]
    }
   ],
   "source": [
    "drop = model.fit(train_dataset,train_labels,epochs=10,validation_data=(valid_dataset,valid_labels))"
   ]
  },
  {
   "cell_type": "code",
   "execution_count": 168,
   "metadata": {},
   "outputs": [
    {
     "data": {
      "text/plain": [
       "[<matplotlib.lines.Line2D at 0x2da105c70>]"
      ]
     },
     "execution_count": 168,
     "metadata": {},
     "output_type": "execute_result"
    },
    {
     "data": {
      "image/png": "[encoded data removed]",
      "text/plain": [
       "<Figure size 432x288 with 1 Axes>"
      ]
     },
     "metadata": {
      "needs_background": "light"
     },
     "output_type": "display_data"
    }
   ],
   "source": [
    "plt.figure()\n",
    "plt.plot(drop.history['loss'],'C0-')\n",
    "plt.plot(drop.history['val_loss'],'C0--')"
   ]
  },
  {
   "cell_type": "code",
   "execution_count": null,
   "metadata": {},
   "outputs": [],
   "source": []
  },
  {
   "cell_type": "markdown",
   "metadata": {
    "id": "-b1hTz3VWZjw"
   },
   "source": [
    "---\n",
    "Problem 4\n",
    "---------\n",
    "\n",
    "Try to get the best performance you can using a multi-layer model! The best reported test accuracy using a deep network is [97.1%](http://yaroslavvb.blogspot.com/2011/09/notmnist-dataset.html?showComment=1391023266211#c8758720086795711595).\n",
    "\n",
    "One avenue you can explore is to add multiple layers.\n",
    "\n",
    "Another one is to use learning rate decay:\n",
    "\n",
    "    global_step = tf.Variable(0)  # count the number of steps taken.\n",
    "    learning_rate = tf.train.exponential_decay(0.5, global_step, ...)\n",
    "    optimizer = tf.train.GradientDescentOptimizer(learning_rate).minimize(loss, global_step=global_step)\n",
    " \n",
    " ---\n"
   ]
  },
  {
   "cell_type": "code",
   "execution_count": 164,
   "metadata": {},
   "outputs": [],
   "source": [
    "model = tf.keras.models.Sequential()\n",
    "model.add(tf.keras.layers.InputLayer(input_shape=(784,)))\n",
    "model.add(tf.keras.layers.Dense(784,activation='relu',kernel_regularizer=tf.keras.regularizers.l2(1e-4)))\n",
    "model.add(tf.keras.layers.Dropout(0.5))\n",
    "model.add(tf.keras.layers.Dense(784,activation='relu',kernel_regularizer=tf.keras.regularizers.l2(1e-4)))\n",
    "model.add(tf.keras.layers.Dropout(0.5))\n",
    "model.add(tf.keras.layers.Dense(10))\n",
    "\n",
    "model.compile(optimizer='adam',loss=loss_fn,metrics=['accuracy',loss_fn])"
   ]
  },
  {
   "cell_type": "code",
   "execution_count": 165,
   "metadata": {},
   "outputs": [
    {
     "name": "stdout",
     "output_type": "stream",
     "text": [
      "Epoch 1/20\n",
      "6250/6250 [==============================] - 32s 5ms/step - loss: 0.8260 - accuracy: 0.8182 - categorical_crossentropy: 0.6060 - val_loss: 0.7398 - val_accuracy: 0.8524 - val_categorical_crossentropy: 0.4829\n",
      "Epoch 2/20\n",
      "6250/6250 [==============================] - 31s 5ms/step - loss: 0.8214 - accuracy: 0.8323 - categorical_crossentropy: 0.5562 - val_loss: 0.7324 - val_accuracy: 0.8610 - val_categorical_crossentropy: 0.4656\n",
      "Epoch 3/20\n",
      "6250/6250 [==============================] - 31s 5ms/step - loss: 0.8112 - accuracy: 0.8354 - categorical_crossentropy: 0.5451 - val_loss: 0.7140 - val_accuracy: 0.8604 - val_categorical_crossentropy: 0.4514\n",
      "Epoch 4/20\n",
      "6250/6250 [==============================] - 32s 5ms/step - loss: 0.7908 - accuracy: 0.8371 - categorical_crossentropy: 0.5385 - val_loss: 0.6925 - val_accuracy: 0.8659 - val_categorical_crossentropy: 0.4488\n",
      "Epoch 5/20\n",
      "6250/6250 [==============================] - 32s 5ms/step - loss: 0.7685 - accuracy: 0.8387 - categorical_crossentropy: 0.5349 - val_loss: 0.6726 - val_accuracy: 0.8676 - val_categorical_crossentropy: 0.4483\n",
      "Epoch 6/20\n",
      "6250/6250 [==============================] - 33s 5ms/step - loss: 0.7470 - accuracy: 0.8397 - categorical_crossentropy: 0.5304 - val_loss: 0.6505 - val_accuracy: 0.8684 - val_categorical_crossentropy: 0.4423\n",
      "Epoch 7/20\n",
      "6250/6250 [==============================] - 32s 5ms/step - loss: 0.7296 - accuracy: 0.8402 - categorical_crossentropy: 0.5280 - val_loss: 0.6332 - val_accuracy: 0.8700 - val_categorical_crossentropy: 0.4386\n",
      "Epoch 8/20\n",
      "6250/6250 [==============================] - 31s 5ms/step - loss: 0.7173 - accuracy: 0.8405 - categorical_crossentropy: 0.5274 - val_loss: 0.6348 - val_accuracy: 0.8671 - val_categorical_crossentropy: 0.4501\n",
      "Epoch 9/20\n",
      "6250/6250 [==============================] - 31s 5ms/step - loss: 0.7041 - accuracy: 0.8416 - categorical_crossentropy: 0.5254 - val_loss: 0.6204 - val_accuracy: 0.8690 - val_categorical_crossentropy: 0.4462\n",
      "Epoch 10/20\n",
      "6250/6250 [==============================] - 30s 5ms/step - loss: 0.6963 - accuracy: 0.8415 - categorical_crossentropy: 0.5252 - val_loss: 0.6250 - val_accuracy: 0.8660 - val_categorical_crossentropy: 0.4569\n",
      "Epoch 11/20\n",
      "6250/6250 [==============================] - 31s 5ms/step - loss: 0.6862 - accuracy: 0.8419 - categorical_crossentropy: 0.5219 - val_loss: 0.6050 - val_accuracy: 0.8695 - val_categorical_crossentropy: 0.4434\n",
      "Epoch 12/20\n",
      "6250/6250 [==============================] - 32s 5ms/step - loss: 0.6799 - accuracy: 0.8419 - categorical_crossentropy: 0.5215 - val_loss: 0.6144 - val_accuracy: 0.8662 - val_categorical_crossentropy: 0.4585\n",
      "Epoch 13/20\n",
      "6250/6250 [==============================] - 32s 5ms/step - loss: 0.6737 - accuracy: 0.8436 - categorical_crossentropy: 0.5203 - val_loss: 0.6016 - val_accuracy: 0.8691 - val_categorical_crossentropy: 0.4504\n",
      "Epoch 14/20\n",
      "6250/6250 [==============================] - 31s 5ms/step - loss: 0.6696 - accuracy: 0.8428 - categorical_crossentropy: 0.5207 - val_loss: 0.5757 - val_accuracy: 0.8737 - val_categorical_crossentropy: 0.4286\n",
      "Epoch 15/20\n",
      "6250/6250 [==============================] - 32s 5ms/step - loss: 0.6648 - accuracy: 0.8425 - categorical_crossentropy: 0.5196 - val_loss: 0.5921 - val_accuracy: 0.8697 - val_categorical_crossentropy: 0.4476\n",
      "Epoch 16/20\n",
      "6250/6250 [==============================] - 30s 5ms/step - loss: 0.6620 - accuracy: 0.8427 - categorical_crossentropy: 0.5189 - val_loss: 0.5855 - val_accuracy: 0.8676 - val_categorical_crossentropy: 0.4444\n",
      "Epoch 17/20\n",
      "6250/6250 [==============================] - 30s 5ms/step - loss: 0.6596 - accuracy: 0.8432 - categorical_crossentropy: 0.5196 - val_loss: 0.5673 - val_accuracy: 0.8718 - val_categorical_crossentropy: 0.4288\n",
      "Epoch 18/20\n",
      "6250/6250 [==============================] - 31s 5ms/step - loss: 0.6561 - accuracy: 0.8433 - categorical_crossentropy: 0.5187 - val_loss: 0.5725 - val_accuracy: 0.8734 - val_categorical_crossentropy: 0.4358\n",
      "Epoch 19/20\n",
      "6250/6250 [==============================] - 32s 5ms/step - loss: 0.6495 - accuracy: 0.8444 - categorical_crossentropy: 0.5151 - val_loss: 0.5662 - val_accuracy: 0.8721 - val_categorical_crossentropy: 0.4326\n",
      "Epoch 20/20\n",
      "6250/6250 [==============================] - 31s 5ms/step - loss: 0.6470 - accuracy: 0.8436 - categorical_crossentropy: 0.5150 - val_loss: 0.5674 - val_accuracy: 0.8702 - val_categorical_crossentropy: 0.4362\n"
     ]
    }
   ],
   "source": [
    "best = model.fit(train_dataset,train_labels,epochs=20,validation_data=(valid_dataset,valid_labels))"
   ]
  },
  {
   "cell_type": "code",
   "execution_count": 167,
   "metadata": {},
   "outputs": [
    {
     "data": {
      "text/plain": [
       "[<matplotlib.lines.Line2D at 0x2da0a9c40>]"
      ]
     },
     "execution_count": 167,
     "metadata": {},
     "output_type": "execute_result"
    },
    {
     "data": {
      "image/png": "[encoded data removed]",
      "text/plain": [
       "<Figure size 432x288 with 1 Axes>"
      ]
     },
     "metadata": {
      "needs_background": "light"
     },
     "output_type": "display_data"
    }
   ],
   "source": [
    "plt.figure()\n",
    "plt.plot(best.history['categorical_crossentropy'],'C0-')\n",
    "plt.plot(best.history['val_categorical_crossentropy'],'C0--')"
   ]
  },
  {
   "cell_type": "code",
   "execution_count": null,
   "metadata": {},
   "outputs": [],
   "source": []
  }
 ],
 "metadata": {
  "colab": {
   "name": "3_regularization.ipynb",
   "toc_visible": true
  },
  "kernelspec": {
   "display_name": "Python 3 (ipykernel)",
   "language": "python",
   "name": "python3"
  },
  "language_info": {
   "codemirror_mode": {
    "name": "ipython",
    "version": 3
   },
   "file_extension": ".py",
   "mimetype": "text/x-python",
   "name": "python",
   "nbconvert_exporter": "python",
   "pygments_lexer": "ipython3",
   "version": "3.9.13"
  }
 },
 "nbformat": 4,
 "nbformat_minor": 1
}
